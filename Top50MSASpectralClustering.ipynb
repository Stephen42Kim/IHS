{
  "nbformat": 4,
  "nbformat_minor": 0,
  "metadata": {
    "colab": {
      "provenance": [],
      "toc_visible": true,
      "authorship_tag": "ABX9TyOFZDCg5ReAob77S09cRK1v",
      "include_colab_link": true
    },
    "kernelspec": {
      "name": "python3",
      "display_name": "Python 3"
    },
    "language_info": {
      "name": "python"
    }
  },
  "cells": [
    {
      "cell_type": "markdown",
      "metadata": {
        "id": "view-in-github",
        "colab_type": "text"
      },
      "source": [
        "<a href=\"https://colab.research.google.com/github/Stephen42Kim/IHS/blob/main/Top50MSASpectralClustering.ipynb\" target=\"_parent\"><img src=\"https://colab.research.google.com/assets/colab-badge.svg\" alt=\"Open In Colab\"/></a>"
      ]
    },
    {
      "cell_type": "markdown",
      "source": [
        "# IHS Urban Spectral Clustering On Top 50 MSAs\n",
        "\n"
      ],
      "metadata": {
        "id": "VTEQhlG3HCmG"
      }
    },
    {
      "cell_type": "code",
      "execution_count": 2,
      "metadata": {
        "id": "H7SjCJ91Fkjp",
        "colab": {
          "base_uri": "https://localhost:8080/"
        },
        "outputId": "8bf8e673-3caa-45da-e935-4d1807141bd3"
      },
      "outputs": [
        {
          "output_type": "stream",
          "name": "stdout",
          "text": [
            "Mounted at /content/drive\n"
          ]
        }
      ],
      "source": [
        "import requests                   # Make HTTP requests\n",
        "import json                       # Load US Census datasets as JSON\n",
        "import chardet                    # Character encoding auto-detection\n",
        "import numpy as np\n",
        "import pandas as pd\n",
        "#from google.colab import files   # Access local directory\n",
        "from google.colab import drive    # Access Google Drive (in folder /content/drive/My Drive/IHS/)\n",
        "drive.mount('/content/drive')"
      ]
    },
    {
      "cell_type": "markdown",
      "source": [
        "# Data Preprocessing"
      ],
      "metadata": {
        "id": "1NwJXnXG_bUe"
      }
    },
    {
      "cell_type": "markdown",
      "source": [
        "##Load PUMA/MSA crosswalk and list of top 50 MSA's by population"
      ],
      "metadata": {
        "id": "fZOpbv66qER0"
      }
    },
    {
      "cell_type": "code",
      "source": [
        "# Load puma_to_cbsa_Crosswalk.csv file (Usa CBSA as MSA)\n",
        "\n",
        "with open('/content/drive/My Drive/IHS/PumaToCBSACrosswalk.csv', 'rb') as f:\n",
        "    result = chardet.detect(f.read())                           # Detect encoding of the file (use readline() if file is large)\n",
        "pumaMSACrossDF = pd.read_csv('/content/drive/My Drive/IHS/PumaToCBSACrosswalk.csv', encoding=result['encoding'])\n",
        "pumaMSACrossDF.columns = ['ST', 'PUMA', 'CBSA#','stab','CBSA']  # Format column names\n",
        "pumaMSACrossDF['ST'] = pumaMSACrossDF['ST'].astype('string')    # Convert 'ST' (State) column to string type\n",
        "print('5 Features, 2203 Entries')\n",
        "pumaMSACrossDF.head()"
      ],
      "metadata": {
        "colab": {
          "base_uri": "https://localhost:8080/",
          "height": 224
        },
        "id": "W3_Af-kFHoND",
        "outputId": "6e550265-eaf1-467f-fddd-b2964451349c"
      },
      "execution_count": 3,
      "outputs": [
        {
          "output_type": "stream",
          "name": "stdout",
          "text": [
            "5 Features, 2203 Entries\n"
          ]
        },
        {
          "output_type": "execute_result",
          "data": {
            "text/plain": [
              "  ST PUMA  CBSA# stab                        CBSA\n",
              "0  1  100  22520   AL  Florence-Muscle Shoals, AL\n",
              "1  1  200  26620   AL              Huntsville, AL\n",
              "2  1  301  26620   AL              Huntsville, AL\n",
              "3  1  302  26620   AL              Huntsville, AL\n",
              "4  1  400  22840   AL              Fort Payne, AL"
            ],
            "text/html": [
              "\n",
              "  <div id=\"df-11d3b6c9-a926-40ca-acc0-ba2b4bdce911\">\n",
              "    <div class=\"colab-df-container\">\n",
              "      <div>\n",
              "<style scoped>\n",
              "    .dataframe tbody tr th:only-of-type {\n",
              "        vertical-align: middle;\n",
              "    }\n",
              "\n",
              "    .dataframe tbody tr th {\n",
              "        vertical-align: top;\n",
              "    }\n",
              "\n",
              "    .dataframe thead th {\n",
              "        text-align: right;\n",
              "    }\n",
              "</style>\n",
              "<table border=\"1\" class=\"dataframe\">\n",
              "  <thead>\n",
              "    <tr style=\"text-align: right;\">\n",
              "      <th></th>\n",
              "      <th>ST</th>\n",
              "      <th>PUMA</th>\n",
              "      <th>CBSA#</th>\n",
              "      <th>stab</th>\n",
              "      <th>CBSA</th>\n",
              "    </tr>\n",
              "  </thead>\n",
              "  <tbody>\n",
              "    <tr>\n",
              "      <th>0</th>\n",
              "      <td>1</td>\n",
              "      <td>100</td>\n",
              "      <td>22520</td>\n",
              "      <td>AL</td>\n",
              "      <td>Florence-Muscle Shoals, AL</td>\n",
              "    </tr>\n",
              "    <tr>\n",
              "      <th>1</th>\n",
              "      <td>1</td>\n",
              "      <td>200</td>\n",
              "      <td>26620</td>\n",
              "      <td>AL</td>\n",
              "      <td>Huntsville, AL</td>\n",
              "    </tr>\n",
              "    <tr>\n",
              "      <th>2</th>\n",
              "      <td>1</td>\n",
              "      <td>301</td>\n",
              "      <td>26620</td>\n",
              "      <td>AL</td>\n",
              "      <td>Huntsville, AL</td>\n",
              "    </tr>\n",
              "    <tr>\n",
              "      <th>3</th>\n",
              "      <td>1</td>\n",
              "      <td>302</td>\n",
              "      <td>26620</td>\n",
              "      <td>AL</td>\n",
              "      <td>Huntsville, AL</td>\n",
              "    </tr>\n",
              "    <tr>\n",
              "      <th>4</th>\n",
              "      <td>1</td>\n",
              "      <td>400</td>\n",
              "      <td>22840</td>\n",
              "      <td>AL</td>\n",
              "      <td>Fort Payne, AL</td>\n",
              "    </tr>\n",
              "  </tbody>\n",
              "</table>\n",
              "</div>\n",
              "      <button class=\"colab-df-convert\" onclick=\"convertToInteractive('df-11d3b6c9-a926-40ca-acc0-ba2b4bdce911')\"\n",
              "              title=\"Convert this dataframe to an interactive table.\"\n",
              "              style=\"display:none;\">\n",
              "        \n",
              "  <svg xmlns=\"http://www.w3.org/2000/svg\" height=\"24px\"viewBox=\"0 0 24 24\"\n",
              "       width=\"24px\">\n",
              "    <path d=\"M0 0h24v24H0V0z\" fill=\"none\"/>\n",
              "    <path d=\"M18.56 5.44l.94 2.06.94-2.06 2.06-.94-2.06-.94-.94-2.06-.94 2.06-2.06.94zm-11 1L8.5 8.5l.94-2.06 2.06-.94-2.06-.94L8.5 2.5l-.94 2.06-2.06.94zm10 10l.94 2.06.94-2.06 2.06-.94-2.06-.94-.94-2.06-.94 2.06-2.06.94z\"/><path d=\"M17.41 7.96l-1.37-1.37c-.4-.4-.92-.59-1.43-.59-.52 0-1.04.2-1.43.59L10.3 9.45l-7.72 7.72c-.78.78-.78 2.05 0 2.83L4 21.41c.39.39.9.59 1.41.59.51 0 1.02-.2 1.41-.59l7.78-7.78 2.81-2.81c.8-.78.8-2.07 0-2.86zM5.41 20L4 18.59l7.72-7.72 1.47 1.35L5.41 20z\"/>\n",
              "  </svg>\n",
              "      </button>\n",
              "      \n",
              "  <style>\n",
              "    .colab-df-container {\n",
              "      display:flex;\n",
              "      flex-wrap:wrap;\n",
              "      gap: 12px;\n",
              "    }\n",
              "\n",
              "    .colab-df-convert {\n",
              "      background-color: #E8F0FE;\n",
              "      border: none;\n",
              "      border-radius: 50%;\n",
              "      cursor: pointer;\n",
              "      display: none;\n",
              "      fill: #1967D2;\n",
              "      height: 32px;\n",
              "      padding: 0 0 0 0;\n",
              "      width: 32px;\n",
              "    }\n",
              "\n",
              "    .colab-df-convert:hover {\n",
              "      background-color: #E2EBFA;\n",
              "      box-shadow: 0px 1px 2px rgba(60, 64, 67, 0.3), 0px 1px 3px 1px rgba(60, 64, 67, 0.15);\n",
              "      fill: #174EA6;\n",
              "    }\n",
              "\n",
              "    [theme=dark] .colab-df-convert {\n",
              "      background-color: #3B4455;\n",
              "      fill: #D2E3FC;\n",
              "    }\n",
              "\n",
              "    [theme=dark] .colab-df-convert:hover {\n",
              "      background-color: #434B5C;\n",
              "      box-shadow: 0px 1px 3px 1px rgba(0, 0, 0, 0.15);\n",
              "      filter: drop-shadow(0px 1px 2px rgba(0, 0, 0, 0.3));\n",
              "      fill: #FFFFFF;\n",
              "    }\n",
              "  </style>\n",
              "\n",
              "      <script>\n",
              "        const buttonEl =\n",
              "          document.querySelector('#df-11d3b6c9-a926-40ca-acc0-ba2b4bdce911 button.colab-df-convert');\n",
              "        buttonEl.style.display =\n",
              "          google.colab.kernel.accessAllowed ? 'block' : 'none';\n",
              "\n",
              "        async function convertToInteractive(key) {\n",
              "          const element = document.querySelector('#df-11d3b6c9-a926-40ca-acc0-ba2b4bdce911');\n",
              "          const dataTable =\n",
              "            await google.colab.kernel.invokeFunction('convertToInteractive',\n",
              "                                                     [key], {});\n",
              "          if (!dataTable) return;\n",
              "\n",
              "          const docLinkHtml = 'Like what you see? Visit the ' +\n",
              "            '<a target=\"_blank\" href=https://colab.research.google.com/notebooks/data_table.ipynb>data table notebook</a>'\n",
              "            + ' to learn more about interactive tables.';\n",
              "          element.innerHTML = '';\n",
              "          dataTable['output_type'] = 'display_data';\n",
              "          await google.colab.output.renderOutput(dataTable, element);\n",
              "          const docLink = document.createElement('div');\n",
              "          docLink.innerHTML = docLinkHtml;\n",
              "          element.appendChild(docLink);\n",
              "        }\n",
              "      </script>\n",
              "    </div>\n",
              "  </div>\n",
              "  "
            ]
          },
          "metadata": {},
          "execution_count": 3
        }
      ]
    },
    {
      "cell_type": "code",
      "source": [
        "# Create list for top 50 MSAs by population - load excel file\n",
        "\n",
        "x = list(pd.read_excel('/content/drive/My Drive/IHS/Top50MSAByPop.xlsx', sheet_name='Sheet1').iloc[3:,1])\n",
        "\n",
        "# Remove unnecessary punctuation and suffixes\n",
        "for j in range(len(x)):\n",
        "  x[j] = x[j].removeprefix('.')\n",
        "  x[j] = x[j].removesuffix(' Metro Area')\n",
        "\n",
        "x[:5]"
      ],
      "metadata": {
        "colab": {
          "base_uri": "https://localhost:8080/"
        },
        "id": "Tni06C1SHoXY",
        "outputId": "371e2054-4de5-46ce-ddac-eae387fe4109"
      },
      "execution_count": null,
      "outputs": [
        {
          "output_type": "execute_result",
          "data": {
            "text/plain": [
              "['New York-Newark-Jersey City, NY-NJ-PA',\n",
              " 'Los Angeles-Long Beach-Anaheim, CA',\n",
              " 'Chicago-Naperville-Elgin, IL-IN-WI',\n",
              " 'Dallas-Fort Worth-Arlington, TX',\n",
              " 'Houston-The Woodlands-Sugar Land, TX']"
            ]
          },
          "metadata": {},
          "execution_count": 21
        }
      ]
    },
    {
      "cell_type": "code",
      "source": [],
      "metadata": {
        "id": "jUvhz-AWHoZv"
      },
      "execution_count": null,
      "outputs": []
    },
    {
      "cell_type": "code",
      "source": [],
      "metadata": {
        "id": "cs9alch8Hous"
      },
      "execution_count": null,
      "outputs": []
    },
    {
      "cell_type": "code",
      "source": [],
      "metadata": {
        "id": "Eu-OCsxHHoxK"
      },
      "execution_count": null,
      "outputs": []
    },
    {
      "cell_type": "code",
      "source": [],
      "metadata": {
        "id": "Y4eUt3znHozp"
      },
      "execution_count": null,
      "outputs": []
    },
    {
      "cell_type": "code",
      "source": [],
      "metadata": {
        "id": "g5iBumd0Ho2E"
      },
      "execution_count": null,
      "outputs": []
    },
    {
      "cell_type": "code",
      "source": [],
      "metadata": {
        "id": "7GUBG0M8Ho4Z"
      },
      "execution_count": null,
      "outputs": []
    },
    {
      "cell_type": "code",
      "source": [],
      "metadata": {
        "id": "e_wsSmcPHo62"
      },
      "execution_count": null,
      "outputs": []
    }
  ]
}